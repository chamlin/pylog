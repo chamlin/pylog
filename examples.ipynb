{
 "cells": [
  {
   "cell_type": "markdown",
   "id": "4785b714-f23b-4766-80ac-2ab6ea7fd248",
   "metadata": {},
   "source": [
    "# Basic notebook to at data\n",
    "# TODO:  binning, groupby, aggregates\n",
    "# make sure you have the columns listed in the code, especially 'text'\n",
    "# this code can all be pulled out into a standalone script"
   ]
  },
  {
   "cell_type": "code",
   "execution_count": null,
   "id": "e18b3c0f-1d4c-4243-aec8-f67f7ecc3e1a",
   "metadata": {},
   "outputs": [],
   "source": [
    "#basic imports:  pandas and regex\n",
    "import pandas as pd\n",
    "import re"
   ]
  },
  {
   "cell_type": "code",
   "execution_count": null,
   "id": "77744a97-780d-43ce-9239-fe0257d3356d",
   "metadata": {},
   "outputs": [],
   "source": [
    "# read the tsv, datetime as date-time and node as string (not number).  low_memory helps with giant files.\n",
    "df = pd.read_csv ('/Users/chamlin/git/pylog/out-35113.tsv', sep='\\t', parse_dates=['datetime'], dtype = {'node': 'string' }, low_memory=False)"
   ]
  },
  {
   "cell_type": "code",
   "execution_count": null,
   "id": "044bcde5-c305-406f-9c36-924b1730d268",
   "metadata": {},
   "outputs": [],
   "source": [
    "# show basic info on columns, nonnulls, types\n",
    "df.info()"
   ]
  },
  {
   "cell_type": "code",
   "execution_count": null,
   "id": "1d907b14-08a5-4f31-99eb-7d1eef8710b0",
   "metadata": {},
   "outputs": [],
   "source": [
    "# use datetime as the index and sort by datetime\n",
    "df.index = df['datetime'].copy()\n",
    "#df.drop (columns = ['datetime'], inplace=True)\n",
    "df = df.sort_index()\n",
    "df.info()"
   ]
  },
  {
   "cell_type": "code",
   "execution_count": null,
   "id": "b2b1dd47-595d-4bd7-b97d-a37f4ab4d909",
   "metadata": {},
   "outputs": [],
   "source": [
    "# reorder the columns so the ones you want are at the front.  make sure all the columns exist.\n",
    "cols_to_order = ['datetime', 'log-type', 'log-path', 'log-line', 'node']\n",
    "new_columns = cols_to_order + (df.columns.drop(cols_to_order).tolist())\n",
    "df = df[new_columns]\n",
    "df"
   ]
  },
  {
   "cell_type": "code",
   "execution_count": null,
   "id": "8e4b6259-4d59-43d6-bb8e-a31a665d193e",
   "metadata": {},
   "outputs": [],
   "source": [
    "# find the datetime range covered\n",
    "[df.datetime.min(), df.datetime.max()]"
   ]
  },
  {
   "cell_type": "code",
   "execution_count": null,
   "id": "b9281ed4-9429-4a63-8d6e-db21fa10e21a",
   "metadata": {},
   "outputs": [],
   "source": [
    "# get only a certain timestamp range\n",
    "mask = (df['datetime'] >= pd.Timestamp('2023-01-30 00:00:00')) & (df.datetime < pd.Timestamp('2023-01-30 02:00:00'))\n",
    "df.loc[mask]"
   ]
  },
  {
   "cell_type": "code",
   "execution_count": null,
   "id": "dad7b057-f658-470c-b144-5b61db615abc",
   "metadata": {},
   "outputs": [],
   "source": [
    "# just look at certain columns\n",
    "df[['datetime', 'node', 'log-path', 'text']]"
   ]
  },
  {
   "cell_type": "code",
   "execution_count": null,
   "id": "a8241be1-ec3e-4f6c-85ea-00f1a9cbdab0",
   "metadata": {},
   "outputs": [],
   "source": [
    "# export certain columns to csv (tsv here)\n",
    "# you'll get all the lines from all the logs from all the nodes, in order\n",
    "df[['datetime', 'node', 'log-path', 'text']].to_csv ('/Users/chamlin/tmp/out.tsv', sep='\\t', index=False)"
   ]
  }
 ],
 "metadata": {
  "kernelspec": {
   "display_name": "Python 3 (ipykernel)",
   "language": "python",
   "name": "python3"
  },
  "language_info": {
   "codemirror_mode": {
    "name": "ipython",
    "version": 3
   },
   "file_extension": ".py",
   "mimetype": "text/x-python",
   "name": "python",
   "nbconvert_exporter": "python",
   "pygments_lexer": "ipython3",
   "version": "3.11.1"
  }
 },
 "nbformat": 4,
 "nbformat_minor": 5
}
